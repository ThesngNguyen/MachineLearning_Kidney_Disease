{
 "cells": [
  {
   "cell_type": "code",
   "execution_count": 1,
   "metadata": {},
   "outputs": [
    {
     "name": "stdout",
     "output_type": "stream",
     "text": [
      "Đã load toàn bộ thư viện\n"
     ]
    }
   ],
   "source": [
    "import os\n",
    "from sklearn.model_selection import train_test_split\n",
    "import pandas as pd\n",
    "import numpy as np\n",
    "\n",
    "from sklearn.metrics import  f1_score, precision_score, recall_score, accuracy_score\n",
    "import matplotlib.pyplot as plt\n",
    "from sklearn.preprocessing import MinMaxScaler, LabelEncoder\n",
    "import pickle\n",
    "import joblib\n",
    "import m2cgen as m2c\n",
    "\n",
    "print(\"Đã load toàn bộ thư viện\")"
   ]
  },
  {
   "cell_type": "code",
   "execution_count": 2,
   "metadata": {},
   "outputs": [
    {
     "name": "stdout",
     "output_type": "stream",
     "text": [
      "Đã load được tệp!\n"
     ]
    }
   ],
   "source": [
    "df = pd.read_csv('Data/kidney_disease.csv')\n",
    "print(\"Đã load được tệp!\")\n"
   ]
  },
  {
   "cell_type": "code",
   "execution_count": 3,
   "metadata": {},
   "outputs": [],
   "source": [
    "#Thay thế các giá trị \"?\" bằng giá trị null\n",
    "df.replace(\"?\", np.nan, inplace=True)\n",
    "\n",
    "#Loại bỏ các dòng chứa giá trị null\n",
    "df.dropna(inplace=True)\n",
    "\n",
    "# Loại bỏ cột \"id\" không cần thiết\n",
    "df.drop(['id'], axis=1, inplace=True)\n"
   ]
  },
  {
   "cell_type": "code",
   "execution_count": 4,
   "metadata": {},
   "outputs": [],
   "source": [
    "# Chuyển các giá trị object sang kiểu số\n",
    "df['rbc'] = df['rbc'].map({'normal': 1, 'abnormal': 0})\n",
    "df['pc'] = df['pc'].map({'normal': 1, 'abnormal': 0})\n",
    "df['pcc'] = df['pcc'].map({'present': 1, 'notpresent': 0})\n",
    "df['ba'] = df['ba'].map({'present': 1, 'notpresent': 0})\n",
    "df['htn'] = df['htn'].map({'yes': 1, 'no': 0})\n",
    "df['dm'] = df['dm'].map({'yes': 1, 'no': 0, '': 0})\n",
    "df['cad'] = df['cad'].map({'yes': 1, 'no': 0})\n",
    "df['appet'] = df['appet'].map({'good': 1, 'poor': 0})\n",
    "df['pe'] = df['pe'].map({'yes': 1, 'no': 0})\n",
    "df['ane'] = df['ane'].map({'yes': 1, 'no': 0})"
   ]
  },
  {
   "cell_type": "code",
   "execution_count": 5,
   "metadata": {},
   "outputs": [],
   "source": [
    "x_data = df.drop(['classification'], axis=1).values\n",
    "\n",
    "# Encode target variable\n",
    "label_encoder = LabelEncoder()\n",
    "y = label_encoder.fit_transform(df['classification'])\n",
    "\n",
    "# Normalize feature data using Min-Max scaling\n",
    "scaler = MinMaxScaler()\n",
    "X = scaler.fit_transform(x_data)\n"
   ]
  },
  {
   "cell_type": "code",
   "execution_count": 7,
   "metadata": {},
   "outputs": [
    {
     "name": "stdout",
     "output_type": "stream",
     "text": [
      "{'C': 1, 'kernel': 'linear'}\n"
     ]
    }
   ],
   "source": [
    "from sklearn import svm, model_selection\n",
    "X_train, X_test, y_train, y_test = train_test_split(X, y, train_size = 0.8, test_size = 0.2, random_state = 55)\n",
    "params = {'kernel': ['linear'], 'C': [1, 10, 100, 1000, 10000]}\n",
    "model = model_selection.GridSearchCV(svm.SVC(), params, verbose = 0)\n",
    "model.fit(X_train, y_train)\n",
    "print(model.best_params_)"
   ]
  },
  {
   "cell_type": "code",
   "execution_count": 8,
   "metadata": {},
   "outputs": [
    {
     "name": "stdout",
     "output_type": "stream",
     "text": [
      "Accuracy: 0.96875\n",
      "Precision: 0.96\n"
     ]
    },
    {
     "data": {
      "image/png": "[encoded data removed]",
      "text/plain": [
       "<Figure size 640x480 with 1 Axes>"
      ]
     },
     "metadata": {},
     "output_type": "display_data"
    }
   ],
   "source": [
    "y_pred = model.predict(X_test)\n",
    "\n",
    "accuracy=accuracy_score (y_test, y_pred)\n",
    "precision=precision_score (y_test, y_pred)\n",
    "recall=recall_score (y_test, y_pred, average=\"binary\")\n",
    "f1score=f1_score (y_test, y_pred, average=\"binary\")\n",
    "\n",
    "\n",
    "evaluation = {\n",
    "    \"accuracy:\" :accuracy,\n",
    "    \"precision:\" :precision,\n",
    "    \"recall:\": recall,\n",
    "    \"f1score:\": f1score\n",
    "}\n",
    "fig, ax = plt.subplots()\n",
    "ax.bar(evaluation.keys(), evaluation.values())\n",
    "ax.set(title=\"Đánh giá độ chính xác KNN\")\n",
    "\n",
    "print('Accuracy:', accuracy)\n",
    "print('Precision:', precision)"
   ]
  },
  {
   "cell_type": "code",
   "execution_count": 9,
   "metadata": {},
   "outputs": [
    {
     "name": "stdout",
     "output_type": "stream",
     "text": [
      "Khách hàng bị bệnh thận.\n"
     ]
    }
   ],
   "source": [
    "import numpy as np\n",
    "#không\n",
    "# Load the model\n",
    "model = pickle.load(open('Data/LR_Model.h5', 'rb'))\n",
    "new_data = np.array([[48.0, 80.0, 1.02, 1.0, 0.0, 1, 1, 0, 0, 121.0, 36.0, 1.2,0,0, 15.4, 44, 7800, 5.2, 1, 1, 0, 1, 0, 0]])\n",
    "\n",
    "prediction = model.predict(new_data)\n",
    "\n",
    "if prediction == 0:\n",
    "    print(\"Khách hàng không bị bệnh thận.\")\n",
    "else:\n",
    "    print(\"Khách hàng bị bệnh thận.\")"
   ]
  },
  {
   "cell_type": "code",
   "execution_count": 10,
   "metadata": {},
   "outputs": [
    {
     "name": "stdout",
     "output_type": "stream",
     "text": [
      "Khách hàng không bị bệnh thận.\n"
     ]
    }
   ],
   "source": [
    "import numpy as np\n",
    "import pickle\n",
    "#bị\n",
    "# Load the model\n",
    "model = pickle.load(open('Data/LR_Model.h5', 'rb'))\n",
    "\n",
    "new_data = np.array([[47.0, 80, 1.025, 0, 0, 1, 1, 0, 0, 124, 44, 1, 140, 4.9, 14.9, 41, 7000, 5.7, 1, 1, 0, 1, 0, 0]])\n",
    "\n",
    "# Perform the prediction\n",
    "prediction = model.predict(new_data)\n",
    "\n",
    "# Display the prediction result\n",
    "if prediction == 0:\n",
    "    print(\"Khách hàng không bị bệnh thận.\")\n",
    "else:\n",
    "    print(\"Khách hàng bị bệnh thận.\")"
   ]
  },
  {
   "cell_type": "code",
   "execution_count": 11,
   "metadata": {},
   "outputs": [],
   "source": [
    "filename = 'Data/SVM_Model.h5'\n",
    "pickle.dump(model, open(filename, 'wb'))\n"
   ]
  }
 ],
 "metadata": {
  "kernelspec": {
   "display_name": "Python 3",
   "language": "python",
   "name": "python3"
  },
  "language_info": {
   "codemirror_mode": {
    "name": "ipython",
    "version": 3
   },
   "file_extension": ".py",
   "mimetype": "text/x-python",
   "name": "python",
   "nbconvert_exporter": "python",
   "pygments_lexer": "ipython3",
   "version": "3.11.0"
  }
 },
 "nbformat": 4,
 "nbformat_minor": 2
}
