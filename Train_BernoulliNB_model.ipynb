{
 "cells": [
  {
   "attachments": {},
   "cell_type": "markdown",
   "metadata": {},
   "source": [
    "### Import thư viện"
   ]
  },
  {
   "cell_type": "code",
   "execution_count": 28,
   "metadata": {},
   "outputs": [
    {
     "name": "stdout",
     "output_type": "stream",
     "text": [
      "Đã load toàn bộ thư viện\n"
     ]
    }
   ],
   "source": [
    "from sklearn.model_selection import train_test_split\n",
    "import pandas as pd\n",
    "import numpy as np\n",
    "from sklearn.naive_bayes import BernoulliNB\n",
    "from sklearn.metrics import  f1_score, precision_score, recall_score, accuracy_score\n",
    "import matplotlib.pyplot as plt\n",
    "from sklearn.preprocessing import MinMaxScaler, LabelEncoder\n",
    "import pickle\n",
    "import m2cgen as m2c\n",
    "\n",
    "print(\"Đã load toàn bộ thư viện\")"
   ]
  },
  {
   "attachments": {},
   "cell_type": "markdown",
   "metadata": {},
   "source": [
    "### Đọc dữ liệu"
   ]
  },
  {
   "cell_type": "code",
   "execution_count": 29,
   "metadata": {},
   "outputs": [
    {
     "name": "stdout",
     "output_type": "stream",
     "text": [
      "Đã load được tệp CSV\n"
     ]
    }
   ],
   "source": [
    "df = pd.read_csv('Data/kidney_disease.csv')\n",
    "\n",
    "print(\"Đã load được tệp CSV\")\n"
   ]
  },
  {
   "attachments": {},
   "cell_type": "markdown",
   "metadata": {},
   "source": [
    "### Tiền xử lý dữ liệu bỏ những giá trị trống"
   ]
  },
  {
   "cell_type": "code",
   "execution_count": 30,
   "metadata": {},
   "outputs": [],
   "source": [
    "#Thay thế các giá trị \"?\" bằng giá trị null\n",
    "df.replace(\"?\", np.nan, inplace=True)\n",
    "\n",
    "#Loại bỏ các dòng chứa giá trị null\n",
    "df.dropna(inplace=True)\n",
    "\n",
    "#Loại bỏ cột \"id\" không cần thiết\n",
    "df.drop(['id'], axis=1, inplace=True)"
   ]
  },
  {
   "attachments": {},
   "cell_type": "markdown",
   "metadata": {},
   "source": [
    "### Chuyển giá trị object sang kiểu số"
   ]
  },
  {
   "cell_type": "code",
   "execution_count": 31,
   "metadata": {},
   "outputs": [],
   "source": [
    "# Chuyển các giá trị object sang kiểu số\n",
    "df['rbc'] = df['rbc'].map({'normal': 1, 'abnormal': 0})\n",
    "df['pc'] = df['pc'].map({'normal': 1, 'abnormal': 0})\n",
    "df['pcc'] = df['pcc'].map({'present': 1, 'notpresent': 0})\n",
    "df['ba'] = df['ba'].map({'present': 1, 'notpresent': 0})\n",
    "df['htn'] = df['htn'].map({'yes': 1, 'no': 0})\n",
    "df['dm'] = df['dm'].map({'yes': 1, 'no': 0, '': 0})\n",
    "df['cad'] = df['cad'].map({'yes': 1, 'no': 0})\n",
    "df['appet'] = df['appet'].map({'good': 1, 'poor': 0})\n",
    "df['pe'] = df['pe'].map({'yes': 1, 'no': 0})\n",
    "df['ane'] = df['ane'].map({'yes': 1, 'no': 0})"
   ]
  },
  {
   "cell_type": "code",
   "execution_count": 32,
   "metadata": {},
   "outputs": [],
   "source": [
    "class OneHotEncoder:\n",
    "    def __init__(self, columns):\n",
    "        self.columns = columns\n",
    "        self.column_mappings = {}\n",
    "\n",
    "    def fit_transform(self, df):\n",
    "        encoded_df = pd.DataFrame(index=df.index)\n",
    "\n",
    "        for column in self.columns:\n",
    "            encoded_columns = pd.get_dummies(df[column], prefix=column)\n",
    "            encoded_df = pd.concat([encoded_df, encoded_columns], axis=1)\n",
    "            self.column_mappings[column] = encoded_columns.columns.tolist()\n",
    "\n",
    "        df = pd.concat([df, encoded_df], axis=1)\n",
    "        df = df.drop(columns=self.columns)\n",
    "\n",
    "        return df\n",
    "\n",
    "    def transform(self, df):\n",
    "        encoded_df = pd.DataFrame(index=df.index)\n",
    "\n",
    "        for column in self.columns:\n",
    "            if column not in self.column_mappings:\n",
    "                raise ValueError(f\"Column '{column}' has not been fitted.\")\n",
    "\n",
    "            encoded_columns = pd.get_dummies(df[column], prefix=column)\n",
    "            missing_columns = set(self.column_mappings[column]) - set(encoded_columns.columns)\n",
    "            for missing_column in missing_columns:\n",
    "                encoded_columns[missing_column] = 0\n",
    "\n",
    "            encoded_df = pd.concat([encoded_df, encoded_columns], axis=1)\n",
    "\n",
    "        df = pd.concat([df, encoded_df], axis=1)\n",
    "        df = df.drop(columns=self.columns)\n",
    "\n",
    "        return df\n"
   ]
  },
  {
   "attachments": {},
   "cell_type": "markdown",
   "metadata": {},
   "source": [
    "### Correlation Map"
   ]
  },
  {
   "attachments": {},
   "cell_type": "markdown",
   "metadata": {},
   "source": [
    "### Chuẩn hóa dữ liệu theo kiểu Min Max và Chia Label"
   ]
  },
  {
   "cell_type": "code",
   "execution_count": 33,
   "metadata": {},
   "outputs": [],
   "source": [
    "# Extract feature columns\n",
    "x_data = df.drop(['classification'], axis=1).values\n",
    "\n",
    "# Encode target variable\n",
    "label_encoder = LabelEncoder()\n",
    "y = label_encoder.fit_transform(df['classification'])\n",
    "\n",
    "# Normalize feature data using Min-Max scaling\n",
    "scaler = MinMaxScaler()\n",
    "X = scaler.fit_transform(x_data)\n",
    "\n",
    "X_train, X_test, y_train, y_test = train_test_split(X, y, test_size = 0.7, random_state = 55)"
   ]
  },
  {
   "cell_type": "code",
   "execution_count": 34,
   "metadata": {},
   "outputs": [
    {
     "data": {
      "text/html": [
       "<style>#sk-container-id-3 {color: black;}#sk-container-id-3 pre{padding: 0;}#sk-container-id-3 div.sk-toggleable {background-color: white;}#sk-container-id-3 label.sk-toggleable__label {cursor: pointer;display: block;width: 100%;margin-bottom: 0;padding: 0.3em;box-sizing: border-box;text-align: center;}#sk-container-id-3 label.sk-toggleable__label-arrow:before {content: \"▸\";float: left;margin-right: 0.25em;color: #696969;}#sk-container-id-3 label.sk-toggleable__label-arrow:hover:before {color: black;}#sk-container-id-3 div.sk-estimator:hover label.sk-toggleable__label-arrow:before {color: black;}#sk-container-id-3 div.sk-toggleable__content {max-height: 0;max-width: 0;overflow: hidden;text-align: left;background-color: #f0f8ff;}#sk-container-id-3 div.sk-toggleable__content pre {margin: 0.2em;color: black;border-radius: 0.25em;background-color: #f0f8ff;}#sk-container-id-3 input.sk-toggleable__control:checked~div.sk-toggleable__content {max-height: 200px;max-width: 100%;overflow: auto;}#sk-container-id-3 input.sk-toggleable__control:checked~label.sk-toggleable__label-arrow:before {content: \"▾\";}#sk-container-id-3 div.sk-estimator input.sk-toggleable__control:checked~label.sk-toggleable__label {background-color: #d4ebff;}#sk-container-id-3 div.sk-label input.sk-toggleable__control:checked~label.sk-toggleable__label {background-color: #d4ebff;}#sk-container-id-3 input.sk-hidden--visually {border: 0;clip: rect(1px 1px 1px 1px);clip: rect(1px, 1px, 1px, 1px);height: 1px;margin: -1px;overflow: hidden;padding: 0;position: absolute;width: 1px;}#sk-container-id-3 div.sk-estimator {font-family: monospace;background-color: #f0f8ff;border: 1px dotted black;border-radius: 0.25em;box-sizing: border-box;margin-bottom: 0.5em;}#sk-container-id-3 div.sk-estimator:hover {background-color: #d4ebff;}#sk-container-id-3 div.sk-parallel-item::after {content: \"\";width: 100%;border-bottom: 1px solid gray;flex-grow: 1;}#sk-container-id-3 div.sk-label:hover label.sk-toggleable__label {background-color: #d4ebff;}#sk-container-id-3 div.sk-serial::before {content: \"\";position: absolute;border-left: 1px solid gray;box-sizing: border-box;top: 0;bottom: 0;left: 50%;z-index: 0;}#sk-container-id-3 div.sk-serial {display: flex;flex-direction: column;align-items: center;background-color: white;padding-right: 0.2em;padding-left: 0.2em;position: relative;}#sk-container-id-3 div.sk-item {position: relative;z-index: 1;}#sk-container-id-3 div.sk-parallel {display: flex;align-items: stretch;justify-content: center;background-color: white;position: relative;}#sk-container-id-3 div.sk-item::before, #sk-container-id-3 div.sk-parallel-item::before {content: \"\";position: absolute;border-left: 1px solid gray;box-sizing: border-box;top: 0;bottom: 0;left: 50%;z-index: -1;}#sk-container-id-3 div.sk-parallel-item {display: flex;flex-direction: column;z-index: 1;position: relative;background-color: white;}#sk-container-id-3 div.sk-parallel-item:first-child::after {align-self: flex-end;width: 50%;}#sk-container-id-3 div.sk-parallel-item:last-child::after {align-self: flex-start;width: 50%;}#sk-container-id-3 div.sk-parallel-item:only-child::after {width: 0;}#sk-container-id-3 div.sk-dashed-wrapped {border: 1px dashed gray;margin: 0 0.4em 0.5em 0.4em;box-sizing: border-box;padding-bottom: 0.4em;background-color: white;}#sk-container-id-3 div.sk-label label {font-family: monospace;font-weight: bold;display: inline-block;line-height: 1.2em;}#sk-container-id-3 div.sk-label-container {text-align: center;}#sk-container-id-3 div.sk-container {/* jupyter's `normalize.less` sets `[hidden] { display: none; }` but bootstrap.min.css set `[hidden] { display: none !important; }` so we also need the `!important` here to be able to override the default hidden behavior on the sphinx rendered scikit-learn.org. See: https://github.com/scikit-learn/scikit-learn/issues/21755 */display: inline-block !important;position: relative;}#sk-container-id-3 div.sk-text-repr-fallback {display: none;}</style><div id=\"sk-container-id-3\" class=\"sk-top-container\"><div class=\"sk-text-repr-fallback\"><pre>BernoulliNB()</pre><b>In a Jupyter environment, please rerun this cell to show the HTML representation or trust the notebook. <br />On GitHub, the HTML representation is unable to render, please try loading this page with nbviewer.org.</b></div><div class=\"sk-container\" hidden><div class=\"sk-item\"><div class=\"sk-estimator sk-toggleable\"><input class=\"sk-toggleable__control sk-hidden--visually\" id=\"sk-estimator-id-3\" type=\"checkbox\" checked><label for=\"sk-estimator-id-3\" class=\"sk-toggleable__label sk-toggleable__label-arrow\">BernoulliNB</label><div class=\"sk-toggleable__content\"><pre>BernoulliNB()</pre></div></div></div></div></div>"
      ],
      "text/plain": [
       "BernoulliNB()"
      ]
     },
     "execution_count": 34,
     "metadata": {},
     "output_type": "execute_result"
    }
   ],
   "source": [
    "\n",
    "# Feature Scaling\n",
    "model = BernoulliNB()\n",
    "model.fit(X_train, y_train)"
   ]
  },
  {
   "cell_type": "code",
   "execution_count": 35,
   "metadata": {},
   "outputs": [
    {
     "name": "stdout",
     "output_type": "stream",
     "text": [
      "Accuracy: 0.963963963963964\n",
      "Precision: 0.9512195121951219\n"
     ]
    },
    {
     "data": {
      "image/png": "[encoded data removed]",
      "text/plain": [
       "<Figure size 640x480 with 1 Axes>"
      ]
     },
     "metadata": {},
     "output_type": "display_data"
    }
   ],
   "source": [
    "y_pred = model.predict(X_test)\n",
    "pred=model.predict(X_test)\n",
    "\n",
    "accuracy=accuracy_score (y_test, y_pred)\n",
    "precision=precision_score (y_test, y_pred)\n",
    "recall=recall_score (y_test, y_pred, average=\"binary\")\n",
    "f1score=f1_score (y_test, y_pred, average=\"binary\")\n",
    "\n",
    "\n",
    "evaluation = {\n",
    "    \"accuracy:\" :accuracy,\n",
    "    \"precision:\" :precision,\n",
    "    \"recall:\": recall,\n",
    "    \"f1score:\": f1score\n",
    "}\n",
    "fig, ax = plt.subplots()\n",
    "ax.bar(evaluation.keys(), evaluation.values())\n",
    "ax.set(title=\"Đánh giá độ chính xác LR\")\n",
    "\n",
    "print('Accuracy:', accuracy)\n",
    "print('Precision:', precision)"
   ]
  },
  {
   "cell_type": "code",
   "execution_count": 36,
   "metadata": {},
   "outputs": [
    {
     "name": "stdout",
     "output_type": "stream",
     "text": [
      "Khách hàng bị bệnh thận.\n"
     ]
    }
   ],
   "source": [
    "import numpy as np\n",
    "#không\n",
    "# Load the model\n",
    "model = pickle.load(open('Data/BernoulliNB.h5', 'rb'))\n",
    "new_data = np.array([[48.0, 80.0, 1.02, 1.0, 0.0, 1, 1, 0, 0, 121.0, 36.0, 1.2,0,0, 15.4, 44, 7800, 5.2, 1, 1, 0, 1, 0, 0]])\n",
    "\n",
    "prediction = model.predict(new_data)\n",
    "\n",
    "if prediction == 0:\n",
    "    print(\"Khách hàng không bị bệnh thận.\")\n",
    "else:\n",
    "    print(\"Khách hàng bị bệnh thận.\")\n"
   ]
  },
  {
   "cell_type": "code",
   "execution_count": 37,
   "metadata": {},
   "outputs": [
    {
     "name": "stdout",
     "output_type": "stream",
     "text": [
      "Khách hàng bị bệnh thận.\n"
     ]
    }
   ],
   "source": [
    "import numpy as np\n",
    "import pickle\n",
    "#bị\n",
    "# Load the model\n",
    "model = pickle.load(open('Data/BernoulliNB.h5', 'rb'))\n",
    "\n",
    "new_data = np.array([[48.0, 80.0, 1.02, 1.0, 0.0, 1, 1, 0, 0, 121.0, 36.0, 1.2,0,0, 15.4, 44, 7800, 5.2, 1, 1, 0, 1, 0, 0]])\n",
    "# Perform the prediction\n",
    "prediction = model.predict(new_data)\n",
    "\n",
    "# Display the prediction result\n",
    "if prediction == 0:\n",
    "    print(\"Khách hàng không bị bệnh thận.\")\n",
    "else:\n",
    "    print(\"Khách hàng bị bệnh thận.\")\n"
   ]
  },
  {
   "cell_type": "code",
   "execution_count": 38,
   "metadata": {},
   "outputs": [],
   "source": [
    "filename = 'Data/BernoulliNB.h5'\n",
    "pickle.dump(model, open(filename, 'wb'))\n",
    "\n",
    "# Chuyển đổi mô hình thành mã nguồn Python\n",
    "model_code = m2c.export_to_python(model)\n",
    "\n",
    "# Lưu trữ mã nguồn vào một tệp\n",
    "with open(\"Data/BNB_Model_Code.py\", \"w\") as f:\n",
    "    f.write(model_code)"
   ]
  }
 ],
 "metadata": {
  "kernelspec": {
   "display_name": "Python 3",
   "language": "python",
   "name": "python3"
  },
  "language_info": {
   "codemirror_mode": {
    "name": "ipython",
    "version": 3
   },
   "file_extension": ".py",
   "mimetype": "text/x-python",
   "name": "python",
   "nbconvert_exporter": "python",
   "pygments_lexer": "ipython3",
   "version": "3.11.0"
  },
  "orig_nbformat": 4
 },
 "nbformat": 4,
 "nbformat_minor": 2
}
